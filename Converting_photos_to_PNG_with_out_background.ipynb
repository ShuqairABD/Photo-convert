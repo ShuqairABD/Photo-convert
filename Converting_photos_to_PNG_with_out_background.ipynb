{
  "nbformat": 4,
  "nbformat_minor": 0,
  "metadata": {
    "colab": {
      "provenance": [],
      "authorship_tag": "ABX9TyMGN2HkeMqclKyzRNTJwqLG",
      "include_colab_link": true
    },
    "kernelspec": {
      "name": "python3",
      "display_name": "Python 3"
    },
    "language_info": {
      "name": "python"
    }
  },
  "cells": [
    {
      "cell_type": "markdown",
      "metadata": {
        "id": "view-in-github",
        "colab_type": "text"
      },
      "source": [
        "<a href=\"https://colab.research.google.com/github/ShuqairABD/Photo-convert/blob/main/Converting_photos_to_PNG_with_out_background.ipynb\" target=\"_parent\"><img src=\"https://colab.research.google.com/assets/colab-badge.svg\" alt=\"Open In Colab\"/></a>"
      ]
    },
    {
      "cell_type": "markdown",
      "source": [
        "# Install libraries"
      ],
      "metadata": {
        "id": "ODmwdLzM9pv_"
      }
    },
    {
      "cell_type": "code",
      "execution_count": null,
      "metadata": {
        "id": "DbN-KgcV8_p1"
      },
      "outputs": [],
      "source": [
        "pip install rembg"
      ]
    },
    {
      "cell_type": "code",
      "source": [
        "from rembg import remove\n",
        "from PIL import Image\n",
        "import os\n",
        "from os import listdir\n",
        "from zipfile import ZipFile"
      ],
      "metadata": {
        "id": "cY35T4Oc9Rzm"
      },
      "execution_count": null,
      "outputs": []
    },
    {
      "cell_type": "markdown",
      "source": [
        "# Upload zip folder (если надо через код)"
      ],
      "metadata": {
        "id": "l2XyqVUF9cV4"
      }
    },
    {
      "cell_type": "code",
      "source": [
        "from google.colab import files\n",
        "uploaded = files.upload()"
      ],
      "metadata": {
        "id": "lRVxFVgs9WGd"
      },
      "execution_count": null,
      "outputs": []
    },
    {
      "cell_type": "markdown",
      "source": [
        "# Code (только указать путь к файлу)"
      ],
      "metadata": {
        "id": "otqqxL449lol"
      }
    },
    {
      "cell_type": "code",
      "source": [
        "def process_images(input_folder, output_folder):\n",
        "    # Получаем список всех файлов во входной папке\n",
        "    for root, dirs, files in os.walk(input_folder):\n",
        "        for file_name in files:\n",
        "            try:\n",
        "                # Составляем полный путь к входному файлу\n",
        "                input_path = os.path.join(root, file_name)\n",
        "\n",
        "                # Загружаем входное изображение\n",
        "                input_image = Image.open(input_path)\n",
        "\n",
        "                # Удаляем фон\n",
        "                output_image = remove(input_image)\n",
        "\n",
        "                # Составляем полный путь к выходному файлу\n",
        "                output_path = os.path.join(output_folder, os.path.relpath(input_path, input_folder))\n",
        "\n",
        "                # Создаем папку для выходного файла, если её нет\n",
        "                os.makedirs(os.path.dirname(output_path), exist_ok=True)\n",
        "\n",
        "                # Сохраняем выходное изображение\n",
        "                output_image.save(output_path)\n",
        "\n",
        "                print(f\"Фон успешно удален для: {file_name}\")\n",
        "\n",
        "            except Exception as e:\n",
        "                print(f\"Ошибка при обработке {file_name}: {str(e)}\")\n",
        "\n",
        "# Определяем пути к файлам\n",
        "zip_file_path = '/content/DataBase Polo.zip'  # укажите путь к вашему файлу\n",
        "extracted_folder = '/content/extracted_images'\n",
        "output_folder = '/content/extracted_images_with_background_removed'\n",
        "\n",
        "# Создаем папки, если их нет\n",
        "os.makedirs(extracted_folder, exist_ok=True)\n",
        "os.makedirs(output_folder, exist_ok=True)\n",
        "\n",
        "# Извлекаем содержимое zip-файла\n",
        "with ZipFile(zip_file_path, 'r') as zip_ref:\n",
        "    zip_ref.extractall(extracted_folder)\n",
        "\n",
        "# Обрабатываем изображения в извлеченной папке\n",
        "process_images(extracted_folder, output_folder)\n",
        "\n",
        "print(\"Удаление фона завершено.\")"
      ],
      "metadata": {
        "id": "jENFvgsi9iTF"
      },
      "execution_count": null,
      "outputs": []
    },
    {
      "cell_type": "markdown",
      "source": [
        "# Extracting folder (нечего не менять)"
      ],
      "metadata": {
        "id": "9vCV1mj2-PcV"
      }
    },
    {
      "cell_type": "code",
      "source": [
        "import shutil\n",
        "\n",
        "# Определите путь к папке, которую вы хотите архивировать\n",
        "folder_path = '/content/extracted_images_with_background_removed'\n",
        "\n",
        "# Определите путь для zip-файла\n",
        "zip_file_path = '/content/extracted_images_with_background_removed.zip'\n",
        "\n",
        "# Создайте zip-файл\n",
        "shutil.make_archive(zip_file_path[:-4], 'zip', folder_path)"
      ],
      "metadata": {
        "id": "oIdVADTe-Nmb"
      },
      "execution_count": null,
      "outputs": []
    },
    {
      "cell_type": "markdown",
      "source": [
        "# download folder to PC (нечего не менять)"
      ],
      "metadata": {
        "id": "g2SqJQZZ-Z2J"
      }
    },
    {
      "cell_type": "code",
      "source": [
        "from google.colab import files\n",
        "files.download(zip_file_path)"
      ],
      "metadata": {
        "id": "GIPOMDoB-deK"
      },
      "execution_count": null,
      "outputs": []
    }
  ]
}